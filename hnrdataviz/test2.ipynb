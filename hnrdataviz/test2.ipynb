{
 "metadata": {
  "language_info": {
   "codemirror_mode": {
    "name": "ipython",
    "version": 3
   },
   "file_extension": ".py",
   "mimetype": "text/x-python",
   "name": "python",
   "nbconvert_exporter": "python",
   "pygments_lexer": "ipython3",
   "version": "3.8.7-final"
  },
  "orig_nbformat": 2,
  "kernelspec": {
   "name": "python3",
   "display_name": "Python 3.8.7 64-bit",
   "metadata": {
    "interpreter": {
     "hash": "9d2c5bfb966ebb984f7be92d416725536f234fc10ea5b6f4f0b6f56f38e808de"
    }
   }
  }
 },
 "nbformat": 4,
 "nbformat_minor": 2,
 "cells": [
  {
   "cell_type": "code",
   "execution_count": 1,
   "metadata": {},
   "outputs": [],
   "source": [
    "import pandas as pd\n",
    "import matplotlib.pyplot as plt\n",
    "import json\n",
    "import plotly.express as px"
   ]
  },
  {
   "cell_type": "code",
   "execution_count": 2,
   "metadata": {},
   "outputs": [
    {
     "output_type": "stream",
     "name": "stdout",
     "text": [
      "4\n"
     ]
    }
   ],
   "source": [
    "with open('faces.json', 'r') as fo:\n",
    "    times =json.load(fo)\n",
    "\n",
    "times\n",
    "print(len(times))\n",
    "\n",
    "new_dict = {}\n",
    "for faces_dict in times:\n",
    "    for face_dict in faces_dict:\n",
    "        # print(face_dict)\n",
    "        # emotions_dict = face_dict['faceAttributes']\n",
    "\n",
    "        emotions_vals = list(face_dict['faceAttributes']['emotion'].values())\n",
    "        # print(emotions_vals)\n",
    "        # print(type(emotions_vals))\n",
    "\n",
    "\n",
    "        face_id = face_dict['faceId']\n",
    "        # new_dict[face_id] = emotions_dict\n",
    "        new_dict[face_id] = emotions_vals\n",
    "\n",
    "\n",
    "emotions = ['anger', 'contempt', 'disgust', 'fear', 'happiness', 'neutral', 'sadness', 'surprise']\n",
    "\n",
    "columns_id = ['face_id', 'anger', 'contempt', 'disgust', 'fear', 'happiness', 'neutral', 'sadness', 'surprise']"
   ]
  },
  {
   "cell_type": "code",
   "execution_count": 3,
   "metadata": {},
   "outputs": [
    {
     "output_type": "execute_result",
     "data": {
      "text/plain": [
       "                                face_id  anger  contempt  disgust  fear  \\\n",
       "0  7212a34e-98aa-4c6f-a905-b9adef34b65b    0.0     0.000      0.0   0.0   \n",
       "1  a0a48bcc-d329-42c5-8f2e-d5fe71ac4bbd    0.0     0.001      0.0   0.0   \n",
       "2  12d870ea-0741-400a-9c70-58b90a43a031    0.0     0.010      0.0   0.0   \n",
       "3  8332548b-0baa-4483-a259-bbc997b4a5db    0.0     0.000      0.0   0.0   \n",
       "4  5e388f2e-4c90-4705-90f0-3a7ad70d1b85    0.0     0.000      0.0   0.0   \n",
       "\n",
       "   happiness  neutral  sadness  surprise  \n",
       "0      0.999    0.000    0.001     0.000  \n",
       "1      0.012    0.983    0.002     0.002  \n",
       "2      0.466    0.516    0.007     0.000  \n",
       "3      0.987    0.008    0.000     0.004  \n",
       "4      1.000    0.000    0.000     0.000  "
      ],
      "text/html": "<div>\n<style scoped>\n    .dataframe tbody tr th:only-of-type {\n        vertical-align: middle;\n    }\n\n    .dataframe tbody tr th {\n        vertical-align: top;\n    }\n\n    .dataframe thead th {\n        text-align: right;\n    }\n</style>\n<table border=\"1\" class=\"dataframe\">\n  <thead>\n    <tr style=\"text-align: right;\">\n      <th></th>\n      <th>face_id</th>\n      <th>anger</th>\n      <th>contempt</th>\n      <th>disgust</th>\n      <th>fear</th>\n      <th>happiness</th>\n      <th>neutral</th>\n      <th>sadness</th>\n      <th>surprise</th>\n    </tr>\n  </thead>\n  <tbody>\n    <tr>\n      <th>0</th>\n      <td>7212a34e-98aa-4c6f-a905-b9adef34b65b</td>\n      <td>0.0</td>\n      <td>0.000</td>\n      <td>0.0</td>\n      <td>0.0</td>\n      <td>0.999</td>\n      <td>0.000</td>\n      <td>0.001</td>\n      <td>0.000</td>\n    </tr>\n    <tr>\n      <th>1</th>\n      <td>a0a48bcc-d329-42c5-8f2e-d5fe71ac4bbd</td>\n      <td>0.0</td>\n      <td>0.001</td>\n      <td>0.0</td>\n      <td>0.0</td>\n      <td>0.012</td>\n      <td>0.983</td>\n      <td>0.002</td>\n      <td>0.002</td>\n    </tr>\n    <tr>\n      <th>2</th>\n      <td>12d870ea-0741-400a-9c70-58b90a43a031</td>\n      <td>0.0</td>\n      <td>0.010</td>\n      <td>0.0</td>\n      <td>0.0</td>\n      <td>0.466</td>\n      <td>0.516</td>\n      <td>0.007</td>\n      <td>0.000</td>\n    </tr>\n    <tr>\n      <th>3</th>\n      <td>8332548b-0baa-4483-a259-bbc997b4a5db</td>\n      <td>0.0</td>\n      <td>0.000</td>\n      <td>0.0</td>\n      <td>0.0</td>\n      <td>0.987</td>\n      <td>0.008</td>\n      <td>0.000</td>\n      <td>0.004</td>\n    </tr>\n    <tr>\n      <th>4</th>\n      <td>5e388f2e-4c90-4705-90f0-3a7ad70d1b85</td>\n      <td>0.0</td>\n      <td>0.000</td>\n      <td>0.0</td>\n      <td>0.0</td>\n      <td>1.000</td>\n      <td>0.000</td>\n      <td>0.000</td>\n      <td>0.000</td>\n    </tr>\n  </tbody>\n</table>\n</div>"
     },
     "metadata": {},
     "execution_count": 3
    }
   ],
   "source": [
    "df = pd.DataFrame.from_dict(new_dict, orient = 'index')\n",
    "df.reset_index(inplace=True)\n",
    "df.columns = columns_id\n",
    "df.head()"
   ]
  },
  {
   "cell_type": "code",
   "execution_count": 4,
   "metadata": {},
   "outputs": [
    {
     "output_type": "display_data",
     "data": {
      "application/vnd.plotly.v1+json": {
       "config": {
        "plotlyServerURL": "https://plot.ly"
       },
       "data": [
        {
         "alignmentgroup": "True",
         "hovertemplate": "variable=anger<br>face_id=%{x}<br>value=%{y}<extra></extra>",
         "legendgroup": "anger",
         "marker": {
          "color": "#636efa"
         },
         "name": "anger",
         "offsetgroup": "anger",
         "orientation": "v",
         "showlegend": true,
         "textposition": "auto",
         "type": "bar",
         "x": [
          "7212a34e-98aa-4c6f-a905-b9adef34b65b",
          "a0a48bcc-d329-42c5-8f2e-d5fe71ac4bbd",
          "12d870ea-0741-400a-9c70-58b90a43a031",
          "8332548b-0baa-4483-a259-bbc997b4a5db",
          "5e388f2e-4c90-4705-90f0-3a7ad70d1b85",
          "729528ac-062d-4b98-855d-59e3c422e87f",
          "badc2631-c3e5-4076-a7a4-d202f5da8ef6",
          "0edec95c-4e7d-473e-bad9-f9080a77fa24",
          "63489424-9bc3-40a0-89b5-6c70f558299d",
          "b67feb90-3164-4473-af57-bc65a5caee54",
          "307bcf75-8bb5-48f6-9a0c-d7357c0118cc",
          "e5407dd7-d4cc-4ff4-8a93-e877d06b17e2",
          "92c11a6c-41a8-4190-9fb4-db24eef48f6d",
          "cdb3fc6d-3fa9-49ae-a5ba-873347dbb833",
          "159e5fe2-42f1-426d-b32b-ebaf104cd598",
          "e6b441df-927d-42e6-9eb5-c5d5ac19022e",
          "c5d5013f-0192-4cf3-8bc3-43bdaed4fa4f",
          "740109ec-576d-476a-95fd-17c8b05930a4",
          "2b8d0120-da99-4d31-808c-dcfdf9c133ee",
          "3f771109-c1e1-4f48-8a4f-9cbf099a02ed"
         ],
         "xaxis": "x",
         "y": [
          0,
          0,
          0,
          0,
          0,
          0,
          0,
          0,
          0,
          0,
          0,
          0,
          0,
          0,
          0,
          0,
          0,
          0,
          0,
          0
         ],
         "yaxis": "y"
        },
        {
         "alignmentgroup": "True",
         "hovertemplate": "variable=contempt<br>face_id=%{x}<br>value=%{y}<extra></extra>",
         "legendgroup": "contempt",
         "marker": {
          "color": "#EF553B"
         },
         "name": "contempt",
         "offsetgroup": "contempt",
         "orientation": "v",
         "showlegend": true,
         "textposition": "auto",
         "type": "bar",
         "x": [
          "7212a34e-98aa-4c6f-a905-b9adef34b65b",
          "a0a48bcc-d329-42c5-8f2e-d5fe71ac4bbd",
          "12d870ea-0741-400a-9c70-58b90a43a031",
          "8332548b-0baa-4483-a259-bbc997b4a5db",
          "5e388f2e-4c90-4705-90f0-3a7ad70d1b85",
          "729528ac-062d-4b98-855d-59e3c422e87f",
          "badc2631-c3e5-4076-a7a4-d202f5da8ef6",
          "0edec95c-4e7d-473e-bad9-f9080a77fa24",
          "63489424-9bc3-40a0-89b5-6c70f558299d",
          "b67feb90-3164-4473-af57-bc65a5caee54",
          "307bcf75-8bb5-48f6-9a0c-d7357c0118cc",
          "e5407dd7-d4cc-4ff4-8a93-e877d06b17e2",
          "92c11a6c-41a8-4190-9fb4-db24eef48f6d",
          "cdb3fc6d-3fa9-49ae-a5ba-873347dbb833",
          "159e5fe2-42f1-426d-b32b-ebaf104cd598",
          "e6b441df-927d-42e6-9eb5-c5d5ac19022e",
          "c5d5013f-0192-4cf3-8bc3-43bdaed4fa4f",
          "740109ec-576d-476a-95fd-17c8b05930a4",
          "2b8d0120-da99-4d31-808c-dcfdf9c133ee",
          "3f771109-c1e1-4f48-8a4f-9cbf099a02ed"
         ],
         "xaxis": "x",
         "y": [
          0,
          0.001,
          0.01,
          0,
          0,
          0.003,
          0.001,
          0,
          0,
          0,
          0.001,
          0,
          0,
          0.016,
          0.001,
          0,
          0,
          0,
          0,
          0
         ],
         "yaxis": "y"
        },
        {
         "alignmentgroup": "True",
         "hovertemplate": "variable=disgust<br>face_id=%{x}<br>value=%{y}<extra></extra>",
         "legendgroup": "disgust",
         "marker": {
          "color": "#00cc96"
         },
         "name": "disgust",
         "offsetgroup": "disgust",
         "orientation": "v",
         "showlegend": true,
         "textposition": "auto",
         "type": "bar",
         "x": [
          "7212a34e-98aa-4c6f-a905-b9adef34b65b",
          "a0a48bcc-d329-42c5-8f2e-d5fe71ac4bbd",
          "12d870ea-0741-400a-9c70-58b90a43a031",
          "8332548b-0baa-4483-a259-bbc997b4a5db",
          "5e388f2e-4c90-4705-90f0-3a7ad70d1b85",
          "729528ac-062d-4b98-855d-59e3c422e87f",
          "badc2631-c3e5-4076-a7a4-d202f5da8ef6",
          "0edec95c-4e7d-473e-bad9-f9080a77fa24",
          "63489424-9bc3-40a0-89b5-6c70f558299d",
          "b67feb90-3164-4473-af57-bc65a5caee54",
          "307bcf75-8bb5-48f6-9a0c-d7357c0118cc",
          "e5407dd7-d4cc-4ff4-8a93-e877d06b17e2",
          "92c11a6c-41a8-4190-9fb4-db24eef48f6d",
          "cdb3fc6d-3fa9-49ae-a5ba-873347dbb833",
          "159e5fe2-42f1-426d-b32b-ebaf104cd598",
          "e6b441df-927d-42e6-9eb5-c5d5ac19022e",
          "c5d5013f-0192-4cf3-8bc3-43bdaed4fa4f",
          "740109ec-576d-476a-95fd-17c8b05930a4",
          "2b8d0120-da99-4d31-808c-dcfdf9c133ee",
          "3f771109-c1e1-4f48-8a4f-9cbf099a02ed"
         ],
         "xaxis": "x",
         "y": [
          0,
          0,
          0,
          0,
          0,
          0,
          0,
          0,
          0.002,
          0,
          0,
          0,
          0,
          0,
          0,
          0,
          0,
          0,
          0,
          0
         ],
         "yaxis": "y"
        },
        {
         "alignmentgroup": "True",
         "hovertemplate": "variable=fear<br>face_id=%{x}<br>value=%{y}<extra></extra>",
         "legendgroup": "fear",
         "marker": {
          "color": "#ab63fa"
         },
         "name": "fear",
         "offsetgroup": "fear",
         "orientation": "v",
         "showlegend": true,
         "textposition": "auto",
         "type": "bar",
         "x": [
          "7212a34e-98aa-4c6f-a905-b9adef34b65b",
          "a0a48bcc-d329-42c5-8f2e-d5fe71ac4bbd",
          "12d870ea-0741-400a-9c70-58b90a43a031",
          "8332548b-0baa-4483-a259-bbc997b4a5db",
          "5e388f2e-4c90-4705-90f0-3a7ad70d1b85",
          "729528ac-062d-4b98-855d-59e3c422e87f",
          "badc2631-c3e5-4076-a7a4-d202f5da8ef6",
          "0edec95c-4e7d-473e-bad9-f9080a77fa24",
          "63489424-9bc3-40a0-89b5-6c70f558299d",
          "b67feb90-3164-4473-af57-bc65a5caee54",
          "307bcf75-8bb5-48f6-9a0c-d7357c0118cc",
          "e5407dd7-d4cc-4ff4-8a93-e877d06b17e2",
          "92c11a6c-41a8-4190-9fb4-db24eef48f6d",
          "cdb3fc6d-3fa9-49ae-a5ba-873347dbb833",
          "159e5fe2-42f1-426d-b32b-ebaf104cd598",
          "e6b441df-927d-42e6-9eb5-c5d5ac19022e",
          "c5d5013f-0192-4cf3-8bc3-43bdaed4fa4f",
          "740109ec-576d-476a-95fd-17c8b05930a4",
          "2b8d0120-da99-4d31-808c-dcfdf9c133ee",
          "3f771109-c1e1-4f48-8a4f-9cbf099a02ed"
         ],
         "xaxis": "x",
         "y": [
          0,
          0,
          0,
          0,
          0,
          0,
          0,
          0,
          0,
          0,
          0,
          0,
          0,
          0,
          0,
          0,
          0,
          0,
          0,
          0
         ],
         "yaxis": "y"
        },
        {
         "alignmentgroup": "True",
         "hovertemplate": "variable=happiness<br>face_id=%{x}<br>value=%{y}<extra></extra>",
         "legendgroup": "happiness",
         "marker": {
          "color": "#FFA15A"
         },
         "name": "happiness",
         "offsetgroup": "happiness",
         "orientation": "v",
         "showlegend": true,
         "textposition": "auto",
         "type": "bar",
         "x": [
          "7212a34e-98aa-4c6f-a905-b9adef34b65b",
          "a0a48bcc-d329-42c5-8f2e-d5fe71ac4bbd",
          "12d870ea-0741-400a-9c70-58b90a43a031",
          "8332548b-0baa-4483-a259-bbc997b4a5db",
          "5e388f2e-4c90-4705-90f0-3a7ad70d1b85",
          "729528ac-062d-4b98-855d-59e3c422e87f",
          "badc2631-c3e5-4076-a7a4-d202f5da8ef6",
          "0edec95c-4e7d-473e-bad9-f9080a77fa24",
          "63489424-9bc3-40a0-89b5-6c70f558299d",
          "b67feb90-3164-4473-af57-bc65a5caee54",
          "307bcf75-8bb5-48f6-9a0c-d7357c0118cc",
          "e5407dd7-d4cc-4ff4-8a93-e877d06b17e2",
          "92c11a6c-41a8-4190-9fb4-db24eef48f6d",
          "cdb3fc6d-3fa9-49ae-a5ba-873347dbb833",
          "159e5fe2-42f1-426d-b32b-ebaf104cd598",
          "e6b441df-927d-42e6-9eb5-c5d5ac19022e",
          "c5d5013f-0192-4cf3-8bc3-43bdaed4fa4f",
          "740109ec-576d-476a-95fd-17c8b05930a4",
          "2b8d0120-da99-4d31-808c-dcfdf9c133ee",
          "3f771109-c1e1-4f48-8a4f-9cbf099a02ed"
         ],
         "xaxis": "x",
         "y": [
          0.999,
          0.012,
          0.466,
          0.987,
          1,
          0.022,
          0.999,
          1,
          0.998,
          1,
          0.998,
          1,
          1,
          0.01,
          0.865,
          1,
          1,
          1,
          1,
          0.743
         ],
         "yaxis": "y"
        },
        {
         "alignmentgroup": "True",
         "hovertemplate": "variable=neutral<br>face_id=%{x}<br>value=%{y}<extra></extra>",
         "legendgroup": "neutral",
         "marker": {
          "color": "#19d3f3"
         },
         "name": "neutral",
         "offsetgroup": "neutral",
         "orientation": "v",
         "showlegend": true,
         "textposition": "auto",
         "type": "bar",
         "x": [
          "7212a34e-98aa-4c6f-a905-b9adef34b65b",
          "a0a48bcc-d329-42c5-8f2e-d5fe71ac4bbd",
          "12d870ea-0741-400a-9c70-58b90a43a031",
          "8332548b-0baa-4483-a259-bbc997b4a5db",
          "5e388f2e-4c90-4705-90f0-3a7ad70d1b85",
          "729528ac-062d-4b98-855d-59e3c422e87f",
          "badc2631-c3e5-4076-a7a4-d202f5da8ef6",
          "0edec95c-4e7d-473e-bad9-f9080a77fa24",
          "63489424-9bc3-40a0-89b5-6c70f558299d",
          "b67feb90-3164-4473-af57-bc65a5caee54",
          "307bcf75-8bb5-48f6-9a0c-d7357c0118cc",
          "e5407dd7-d4cc-4ff4-8a93-e877d06b17e2",
          "92c11a6c-41a8-4190-9fb4-db24eef48f6d",
          "cdb3fc6d-3fa9-49ae-a5ba-873347dbb833",
          "159e5fe2-42f1-426d-b32b-ebaf104cd598",
          "e6b441df-927d-42e6-9eb5-c5d5ac19022e",
          "c5d5013f-0192-4cf3-8bc3-43bdaed4fa4f",
          "740109ec-576d-476a-95fd-17c8b05930a4",
          "2b8d0120-da99-4d31-808c-dcfdf9c133ee",
          "3f771109-c1e1-4f48-8a4f-9cbf099a02ed"
         ],
         "xaxis": "x",
         "y": [
          0,
          0.983,
          0.516,
          0.008,
          0,
          0.962,
          0.001,
          0,
          0,
          0,
          0.001,
          0,
          0,
          0.972,
          0.134,
          0,
          0,
          0,
          0,
          0.257
         ],
         "yaxis": "y"
        },
        {
         "alignmentgroup": "True",
         "hovertemplate": "variable=sadness<br>face_id=%{x}<br>value=%{y}<extra></extra>",
         "legendgroup": "sadness",
         "marker": {
          "color": "#FF6692"
         },
         "name": "sadness",
         "offsetgroup": "sadness",
         "orientation": "v",
         "showlegend": true,
         "textposition": "auto",
         "type": "bar",
         "x": [
          "7212a34e-98aa-4c6f-a905-b9adef34b65b",
          "a0a48bcc-d329-42c5-8f2e-d5fe71ac4bbd",
          "12d870ea-0741-400a-9c70-58b90a43a031",
          "8332548b-0baa-4483-a259-bbc997b4a5db",
          "5e388f2e-4c90-4705-90f0-3a7ad70d1b85",
          "729528ac-062d-4b98-855d-59e3c422e87f",
          "badc2631-c3e5-4076-a7a4-d202f5da8ef6",
          "0edec95c-4e7d-473e-bad9-f9080a77fa24",
          "63489424-9bc3-40a0-89b5-6c70f558299d",
          "b67feb90-3164-4473-af57-bc65a5caee54",
          "307bcf75-8bb5-48f6-9a0c-d7357c0118cc",
          "e5407dd7-d4cc-4ff4-8a93-e877d06b17e2",
          "92c11a6c-41a8-4190-9fb4-db24eef48f6d",
          "cdb3fc6d-3fa9-49ae-a5ba-873347dbb833",
          "159e5fe2-42f1-426d-b32b-ebaf104cd598",
          "e6b441df-927d-42e6-9eb5-c5d5ac19022e",
          "c5d5013f-0192-4cf3-8bc3-43bdaed4fa4f",
          "740109ec-576d-476a-95fd-17c8b05930a4",
          "2b8d0120-da99-4d31-808c-dcfdf9c133ee",
          "3f771109-c1e1-4f48-8a4f-9cbf099a02ed"
         ],
         "xaxis": "x",
         "y": [
          0.001,
          0.002,
          0.007,
          0,
          0,
          0.007,
          0,
          0,
          0,
          0,
          0,
          0,
          0,
          0.002,
          0,
          0,
          0,
          0,
          0,
          0
         ],
         "yaxis": "y"
        },
        {
         "alignmentgroup": "True",
         "hovertemplate": "variable=surprise<br>face_id=%{x}<br>value=%{y}<extra></extra>",
         "legendgroup": "surprise",
         "marker": {
          "color": "#B6E880"
         },
         "name": "surprise",
         "offsetgroup": "surprise",
         "orientation": "v",
         "showlegend": true,
         "textposition": "auto",
         "type": "bar",
         "x": [
          "7212a34e-98aa-4c6f-a905-b9adef34b65b",
          "a0a48bcc-d329-42c5-8f2e-d5fe71ac4bbd",
          "12d870ea-0741-400a-9c70-58b90a43a031",
          "8332548b-0baa-4483-a259-bbc997b4a5db",
          "5e388f2e-4c90-4705-90f0-3a7ad70d1b85",
          "729528ac-062d-4b98-855d-59e3c422e87f",
          "badc2631-c3e5-4076-a7a4-d202f5da8ef6",
          "0edec95c-4e7d-473e-bad9-f9080a77fa24",
          "63489424-9bc3-40a0-89b5-6c70f558299d",
          "b67feb90-3164-4473-af57-bc65a5caee54",
          "307bcf75-8bb5-48f6-9a0c-d7357c0118cc",
          "e5407dd7-d4cc-4ff4-8a93-e877d06b17e2",
          "92c11a6c-41a8-4190-9fb4-db24eef48f6d",
          "cdb3fc6d-3fa9-49ae-a5ba-873347dbb833",
          "159e5fe2-42f1-426d-b32b-ebaf104cd598",
          "e6b441df-927d-42e6-9eb5-c5d5ac19022e",
          "c5d5013f-0192-4cf3-8bc3-43bdaed4fa4f",
          "740109ec-576d-476a-95fd-17c8b05930a4",
          "2b8d0120-da99-4d31-808c-dcfdf9c133ee",
          "3f771109-c1e1-4f48-8a4f-9cbf099a02ed"
         ],
         "xaxis": "x",
         "y": [
          0,
          0.002,
          0,
          0.004,
          0,
          0.005,
          0,
          0,
          0,
          0,
          0,
          0,
          0,
          0,
          0,
          0,
          0,
          0,
          0,
          0
         ],
         "yaxis": "y"
        }
       ],
       "layout": {
        "barmode": "relative",
        "legend": {
         "title": {
          "text": "variable"
         },
         "tracegroupgap": 0
        },
        "margin": {
         "t": 60
        },
        "template": {
         "data": {
          "bar": [
           {
            "error_x": {
             "color": "#2a3f5f"
            },
            "error_y": {
             "color": "#2a3f5f"
            },
            "marker": {
             "line": {
              "color": "#E5ECF6",
              "width": 0.5
             }
            },
            "type": "bar"
           }
          ],
          "barpolar": [
           {
            "marker": {
             "line": {
              "color": "#E5ECF6",
              "width": 0.5
             }
            },
            "type": "barpolar"
           }
          ],
          "carpet": [
           {
            "aaxis": {
             "endlinecolor": "#2a3f5f",
             "gridcolor": "white",
             "linecolor": "white",
             "minorgridcolor": "white",
             "startlinecolor": "#2a3f5f"
            },
            "baxis": {
             "endlinecolor": "#2a3f5f",
             "gridcolor": "white",
             "linecolor": "white",
             "minorgridcolor": "white",
             "startlinecolor": "#2a3f5f"
            },
            "type": "carpet"
           }
          ],
          "choropleth": [
           {
            "colorbar": {
             "outlinewidth": 0,
             "ticks": ""
            },
            "type": "choropleth"
           }
          ],
          "contour": [
           {
            "colorbar": {
             "outlinewidth": 0,
             "ticks": ""
            },
            "colorscale": [
             [
              0,
              "#0d0887"
             ],
             [
              0.1111111111111111,
              "#46039f"
             ],
             [
              0.2222222222222222,
              "#7201a8"
             ],
             [
              0.3333333333333333,
              "#9c179e"
             ],
             [
              0.4444444444444444,
              "#bd3786"
             ],
             [
              0.5555555555555556,
              "#d8576b"
             ],
             [
              0.6666666666666666,
              "#ed7953"
             ],
             [
              0.7777777777777778,
              "#fb9f3a"
             ],
             [
              0.8888888888888888,
              "#fdca26"
             ],
             [
              1,
              "#f0f921"
             ]
            ],
            "type": "contour"
           }
          ],
          "contourcarpet": [
           {
            "colorbar": {
             "outlinewidth": 0,
             "ticks": ""
            },
            "type": "contourcarpet"
           }
          ],
          "heatmap": [
           {
            "colorbar": {
             "outlinewidth": 0,
             "ticks": ""
            },
            "colorscale": [
             [
              0,
              "#0d0887"
             ],
             [
              0.1111111111111111,
              "#46039f"
             ],
             [
              0.2222222222222222,
              "#7201a8"
             ],
             [
              0.3333333333333333,
              "#9c179e"
             ],
             [
              0.4444444444444444,
              "#bd3786"
             ],
             [
              0.5555555555555556,
              "#d8576b"
             ],
             [
              0.6666666666666666,
              "#ed7953"
             ],
             [
              0.7777777777777778,
              "#fb9f3a"
             ],
             [
              0.8888888888888888,
              "#fdca26"
             ],
             [
              1,
              "#f0f921"
             ]
            ],
            "type": "heatmap"
           }
          ],
          "heatmapgl": [
           {
            "colorbar": {
             "outlinewidth": 0,
             "ticks": ""
            },
            "colorscale": [
             [
              0,
              "#0d0887"
             ],
             [
              0.1111111111111111,
              "#46039f"
             ],
             [
              0.2222222222222222,
              "#7201a8"
             ],
             [
              0.3333333333333333,
              "#9c179e"
             ],
             [
              0.4444444444444444,
              "#bd3786"
             ],
             [
              0.5555555555555556,
              "#d8576b"
             ],
             [
              0.6666666666666666,
              "#ed7953"
             ],
             [
              0.7777777777777778,
              "#fb9f3a"
             ],
             [
              0.8888888888888888,
              "#fdca26"
             ],
             [
              1,
              "#f0f921"
             ]
            ],
            "type": "heatmapgl"
           }
          ],
          "histogram": [
           {
            "marker": {
             "colorbar": {
              "outlinewidth": 0,
              "ticks": ""
             }
            },
            "type": "histogram"
           }
          ],
          "histogram2d": [
           {
            "colorbar": {
             "outlinewidth": 0,
             "ticks": ""
            },
            "colorscale": [
             [
              0,
              "#0d0887"
             ],
             [
              0.1111111111111111,
              "#46039f"
             ],
             [
              0.2222222222222222,
              "#7201a8"
             ],
             [
              0.3333333333333333,
              "#9c179e"
             ],
             [
              0.4444444444444444,
              "#bd3786"
             ],
             [
              0.5555555555555556,
              "#d8576b"
             ],
             [
              0.6666666666666666,
              "#ed7953"
             ],
             [
              0.7777777777777778,
              "#fb9f3a"
             ],
             [
              0.8888888888888888,
              "#fdca26"
             ],
             [
              1,
              "#f0f921"
             ]
            ],
            "type": "histogram2d"
           }
          ],
          "histogram2dcontour": [
           {
            "colorbar": {
             "outlinewidth": 0,
             "ticks": ""
            },
            "colorscale": [
             [
              0,
              "#0d0887"
             ],
             [
              0.1111111111111111,
              "#46039f"
             ],
             [
              0.2222222222222222,
              "#7201a8"
             ],
             [
              0.3333333333333333,
              "#9c179e"
             ],
             [
              0.4444444444444444,
              "#bd3786"
             ],
             [
              0.5555555555555556,
              "#d8576b"
             ],
             [
              0.6666666666666666,
              "#ed7953"
             ],
             [
              0.7777777777777778,
              "#fb9f3a"
             ],
             [
              0.8888888888888888,
              "#fdca26"
             ],
             [
              1,
              "#f0f921"
             ]
            ],
            "type": "histogram2dcontour"
           }
          ],
          "mesh3d": [
           {
            "colorbar": {
             "outlinewidth": 0,
             "ticks": ""
            },
            "type": "mesh3d"
           }
          ],
          "parcoords": [
           {
            "line": {
             "colorbar": {
              "outlinewidth": 0,
              "ticks": ""
             }
            },
            "type": "parcoords"
           }
          ],
          "pie": [
           {
            "automargin": true,
            "type": "pie"
           }
          ],
          "scatter": [
           {
            "marker": {
             "colorbar": {
              "outlinewidth": 0,
              "ticks": ""
             }
            },
            "type": "scatter"
           }
          ],
          "scatter3d": [
           {
            "line": {
             "colorbar": {
              "outlinewidth": 0,
              "ticks": ""
             }
            },
            "marker": {
             "colorbar": {
              "outlinewidth": 0,
              "ticks": ""
             }
            },
            "type": "scatter3d"
           }
          ],
          "scattercarpet": [
           {
            "marker": {
             "colorbar": {
              "outlinewidth": 0,
              "ticks": ""
             }
            },
            "type": "scattercarpet"
           }
          ],
          "scattergeo": [
           {
            "marker": {
             "colorbar": {
              "outlinewidth": 0,
              "ticks": ""
             }
            },
            "type": "scattergeo"
           }
          ],
          "scattergl": [
           {
            "marker": {
             "colorbar": {
              "outlinewidth": 0,
              "ticks": ""
             }
            },
            "type": "scattergl"
           }
          ],
          "scattermapbox": [
           {
            "marker": {
             "colorbar": {
              "outlinewidth": 0,
              "ticks": ""
             }
            },
            "type": "scattermapbox"
           }
          ],
          "scatterpolar": [
           {
            "marker": {
             "colorbar": {
              "outlinewidth": 0,
              "ticks": ""
             }
            },
            "type": "scatterpolar"
           }
          ],
          "scatterpolargl": [
           {
            "marker": {
             "colorbar": {
              "outlinewidth": 0,
              "ticks": ""
             }
            },
            "type": "scatterpolargl"
           }
          ],
          "scatterternary": [
           {
            "marker": {
             "colorbar": {
              "outlinewidth": 0,
              "ticks": ""
             }
            },
            "type": "scatterternary"
           }
          ],
          "surface": [
           {
            "colorbar": {
             "outlinewidth": 0,
             "ticks": ""
            },
            "colorscale": [
             [
              0,
              "#0d0887"
             ],
             [
              0.1111111111111111,
              "#46039f"
             ],
             [
              0.2222222222222222,
              "#7201a8"
             ],
             [
              0.3333333333333333,
              "#9c179e"
             ],
             [
              0.4444444444444444,
              "#bd3786"
             ],
             [
              0.5555555555555556,
              "#d8576b"
             ],
             [
              0.6666666666666666,
              "#ed7953"
             ],
             [
              0.7777777777777778,
              "#fb9f3a"
             ],
             [
              0.8888888888888888,
              "#fdca26"
             ],
             [
              1,
              "#f0f921"
             ]
            ],
            "type": "surface"
           }
          ],
          "table": [
           {
            "cells": {
             "fill": {
              "color": "#EBF0F8"
             },
             "line": {
              "color": "white"
             }
            },
            "header": {
             "fill": {
              "color": "#C8D4E3"
             },
             "line": {
              "color": "white"
             }
            },
            "type": "table"
           }
          ]
         },
         "layout": {
          "annotationdefaults": {
           "arrowcolor": "#2a3f5f",
           "arrowhead": 0,
           "arrowwidth": 1
          },
          "autotypenumbers": "strict",
          "coloraxis": {
           "colorbar": {
            "outlinewidth": 0,
            "ticks": ""
           }
          },
          "colorscale": {
           "diverging": [
            [
             0,
             "#8e0152"
            ],
            [
             0.1,
             "#c51b7d"
            ],
            [
             0.2,
             "#de77ae"
            ],
            [
             0.3,
             "#f1b6da"
            ],
            [
             0.4,
             "#fde0ef"
            ],
            [
             0.5,
             "#f7f7f7"
            ],
            [
             0.6,
             "#e6f5d0"
            ],
            [
             0.7,
             "#b8e186"
            ],
            [
             0.8,
             "#7fbc41"
            ],
            [
             0.9,
             "#4d9221"
            ],
            [
             1,
             "#276419"
            ]
           ],
           "sequential": [
            [
             0,
             "#0d0887"
            ],
            [
             0.1111111111111111,
             "#46039f"
            ],
            [
             0.2222222222222222,
             "#7201a8"
            ],
            [
             0.3333333333333333,
             "#9c179e"
            ],
            [
             0.4444444444444444,
             "#bd3786"
            ],
            [
             0.5555555555555556,
             "#d8576b"
            ],
            [
             0.6666666666666666,
             "#ed7953"
            ],
            [
             0.7777777777777778,
             "#fb9f3a"
            ],
            [
             0.8888888888888888,
             "#fdca26"
            ],
            [
             1,
             "#f0f921"
            ]
           ],
           "sequentialminus": [
            [
             0,
             "#0d0887"
            ],
            [
             0.1111111111111111,
             "#46039f"
            ],
            [
             0.2222222222222222,
             "#7201a8"
            ],
            [
             0.3333333333333333,
             "#9c179e"
            ],
            [
             0.4444444444444444,
             "#bd3786"
            ],
            [
             0.5555555555555556,
             "#d8576b"
            ],
            [
             0.6666666666666666,
             "#ed7953"
            ],
            [
             0.7777777777777778,
             "#fb9f3a"
            ],
            [
             0.8888888888888888,
             "#fdca26"
            ],
            [
             1,
             "#f0f921"
            ]
           ]
          },
          "colorway": [
           "#636efa",
           "#EF553B",
           "#00cc96",
           "#ab63fa",
           "#FFA15A",
           "#19d3f3",
           "#FF6692",
           "#B6E880",
           "#FF97FF",
           "#FECB52"
          ],
          "font": {
           "color": "#2a3f5f"
          },
          "geo": {
           "bgcolor": "white",
           "lakecolor": "white",
           "landcolor": "#E5ECF6",
           "showlakes": true,
           "showland": true,
           "subunitcolor": "white"
          },
          "hoverlabel": {
           "align": "left"
          },
          "hovermode": "closest",
          "mapbox": {
           "style": "light"
          },
          "paper_bgcolor": "white",
          "plot_bgcolor": "#E5ECF6",
          "polar": {
           "angularaxis": {
            "gridcolor": "white",
            "linecolor": "white",
            "ticks": ""
           },
           "bgcolor": "#E5ECF6",
           "radialaxis": {
            "gridcolor": "white",
            "linecolor": "white",
            "ticks": ""
           }
          },
          "scene": {
           "xaxis": {
            "backgroundcolor": "#E5ECF6",
            "gridcolor": "white",
            "gridwidth": 2,
            "linecolor": "white",
            "showbackground": true,
            "ticks": "",
            "zerolinecolor": "white"
           },
           "yaxis": {
            "backgroundcolor": "#E5ECF6",
            "gridcolor": "white",
            "gridwidth": 2,
            "linecolor": "white",
            "showbackground": true,
            "ticks": "",
            "zerolinecolor": "white"
           },
           "zaxis": {
            "backgroundcolor": "#E5ECF6",
            "gridcolor": "white",
            "gridwidth": 2,
            "linecolor": "white",
            "showbackground": true,
            "ticks": "",
            "zerolinecolor": "white"
           }
          },
          "shapedefaults": {
           "line": {
            "color": "#2a3f5f"
           }
          },
          "ternary": {
           "aaxis": {
            "gridcolor": "white",
            "linecolor": "white",
            "ticks": ""
           },
           "baxis": {
            "gridcolor": "white",
            "linecolor": "white",
            "ticks": ""
           },
           "bgcolor": "#E5ECF6",
           "caxis": {
            "gridcolor": "white",
            "linecolor": "white",
            "ticks": ""
           }
          },
          "title": {
           "x": 0.05
          },
          "xaxis": {
           "automargin": true,
           "gridcolor": "white",
           "linecolor": "white",
           "ticks": "",
           "title": {
            "standoff": 15
           },
           "zerolinecolor": "white",
           "zerolinewidth": 2
          },
          "yaxis": {
           "automargin": true,
           "gridcolor": "white",
           "linecolor": "white",
           "ticks": "",
           "title": {
            "standoff": 15
           },
           "zerolinecolor": "white",
           "zerolinewidth": 2
          }
         }
        },
        "xaxis": {
         "anchor": "y",
         "domain": [
          0,
          1
         ],
         "title": {
          "text": "face_id"
         }
        },
        "yaxis": {
         "anchor": "x",
         "domain": [
          0,
          1
         ],
         "title": {
          "text": "value"
         }
        }
       }
      }
     },
     "metadata": {}
    }
   ],
   "source": [
    "barchart = px.bar(\n",
    "    df,\n",
    "    x='face_id',\n",
    "    y=emotions,\n",
    ")\n",
    "barchart"
   ]
  },
  {
   "cell_type": "code",
   "execution_count": 5,
   "metadata": {},
   "outputs": [],
   "source": [
    "#barchart.write_image('test.png')\n",
    "barchart.write_html('test.html')"
   ]
  },
  {
   "cell_type": "code",
   "execution_count": 6,
   "metadata": {},
   "outputs": [],
   "source": [
    "barchart.write_json('test.json')"
   ]
  },
  {
   "cell_type": "code",
   "execution_count": 14,
   "metadata": {},
   "outputs": [
    {
     "output_type": "execute_result",
     "data": {
      "text/plain": [
       "plotly.graph_objs._figure.Figure"
      ]
     },
     "metadata": {},
     "execution_count": 14
    }
   ],
   "source": [
    "type(barchart)"
   ]
  },
  {
   "cell_type": "code",
   "execution_count": 7,
   "metadata": {},
   "outputs": [],
   "source": [
    "with open('test.json', 'r') as fo:\n",
    "    j = json.load(fo)"
   ]
  },
  {
   "cell_type": "code",
   "execution_count": 18,
   "metadata": {},
   "outputs": [
    {
     "output_type": "execute_result",
     "data": {
      "text/plain": [
       "unction(t,e,r){\"use strict\";r.pointsAccessorFunction=function(t,e){for(var r,n,i=0;i<t.length&&(r=t[i])!==e;i++)r._indexToPoints&&!1!==r.enabled&&(n=r._indexToPoints);return n?function(t){return n[t]}:function(t){return[t]}}},{}],1368:[function(t,e,r){\"use strict\";var n=t(\"../lib\"),i=t(\"../plots/cartesian/axes\"),a=t(\"./helpers\").pointsAccessorFunction,o=t(\"../constants/numerical\").BADNUM;r.moduleType=\"transform\",r.name=\"sort\",r.attributes={enabled:{valType:\"boolean\",dflt:!0,editType:\"calc\"},target:{valType:\"string\",strict:!0,noBlank:!0,arrayOk:!0,dflt:\"x\",editType:\"calc\"},order:{valType:\"enumerated\",values:[\"ascending\",\"descending\"],dflt:\"ascending\",editType:\"calc\"},editType:\"calc\"},r.supplyDefaults=function(t){var e={};function i(i,a){return n.coerce(t,e,r.attributes,i,a)}return i(\"enabled\")&&(i(\"target\"),i(\"order\")),e},r.calcTransform=function(t,e,r){if(r.enabled){var s=n.getTargetArray(e,r);if(s){var l=r.target,c=s.length;e._length&&(c=Math.min(c,e._length));var u,f,h=e._arrayAttrs,p=function(t,e,r,n){var i,a=new Array(n),s=new Array(n);for(i=0;i<n;i++)a[i]={v:e[i],i:i};for(a.sort(function(t,e){switch(t.order){case\"ascending\":return function(t,r){var n=e(t.v),i=e(r.v);return n===o?1:i===o?-1:n-i};case\"descending\":return function(t,r){var n=e(t.v),i=e(r.v);return n===o?1:i===o?-1:i-n}}}(t,r)),i=0;i<n;i++)s[i]=a[i].i;return s}(r,s,i.getDataToCoordFunc(t,e,l,s),c),d=a(e.transforms,r),g={};for(u=0;u<h.length;u++){var m=n.nestedProperty(e,h[u]),v=m.get(),y=new Array(c);for(f=0;f<c;f++)y[f]=v[p[f]];m.set(y)}for(f=0;f<c;f++)g[f]=d(p[f]);r._indexToPoints=g,e._length=c}}}},{\"../constants/numerical\":753,\"../lib\":778,\"../plots/cartesian/axes\":827,\"./helpers\":1367}],1369:[function(t,e,r){\"use strict\";r.version=\"1.58.2\"},{}]},{},[26])(26)}));</script>                <div id=\"9dce963c-5e02-4d83-9c3d-5fe672de902f\" class=\"plotly-graph-div\" style=\"height:100%; width:100%;\"></div>            <script type=\"text/javascript\">                                    window.PLOTLYENV=window.PLOTLYENV || {};                                    if (document.getElementById(\"9dce963c-5e02-4d83-9c3d-5fe672de902f\")) {                    Plotly.newPlot(                        \"9dce963c-5e02-4d83-9c3d-5fe672de902f\",                        [{\"alignmentgroup\": \"True\", \"hovertemplate\": \"variable=anger<br>face_id=%{x}<br>value=%{y}<extra></extra>\", \"legendgroup\": \"anger\", \"marker\": {\"color\": \"#636efa\"}, \"name\": \"anger\", \"offsetgroup\": \"anger\", \"orientation\": \"v\", \"showlegend\": true, \"textposition\": \"auto\", \"type\": \"bar\", \"x\": [\"7212a34e-98aa-4c6f-a905-b9adef34b65b\", \"a0a48bcc-d329-42c5-8f2e-d5fe71ac4bbd\", \"12d870ea-0741-400a-9c70-58b90a43a031\", \"8332548b-0baa-4483-a259-bbc997b4a5db\", \"5e388f2e-4c90-4705-90f0-3a7ad70d1b85\", \"729528ac-062d-4b98-855d-59e3c422e87f\", \"badc2631-c3e5-4076-a7a4-d202f5da8ef6\", \"0edec95c-4e7d-473e-bad9-f9080a77fa24\", \"63489424-9bc3-40a0-89b5-6c70f558299d\", \"b67feb90-3164-4473-af57-bc65a5caee54\", \"307bcf75-8bb5-48f6-9a0c-d7357c0118cc\", \"e5407dd7-d4cc-4ff4-8a93-e877d06b17e2\", \"92c11a6c-41a8-4190-9fb4-db24eef48f6d\", \"cdb3fc6d-3fa9-49ae-a5ba-873347dbb833\", \"159e5fe2-42f1-426d-b32b-ebaf104cd598\", \"e6b441df-927d-42e6-9eb5-c5d5ac19022e\", \"c5d5013f-0192-4cf3-8bc3-43bdaed4fa4f\", \"740109ec-576d-476a-95fd-17c8b05930a4\", \"2b8d0120-da99-4d31-808c-dcfdf9c133ee\", \"3f771109-c1e1-4f48-8a4f-9cbf099a02ed\"], \"xaxis\": \"x\", \"y\": [0.0, 0.0, 0.0, 0.0, 0.0, 0.0, 0.0, 0.0, 0.0, 0.0, 0.0, 0.0, 0.0, 0.0, 0.0, 0.0, 0.0, 0.0, 0.0, 0.0], \"yaxis\": \"y\"}, {\"alignmentgroup\": \"True\", \"hovertemplate\": \"variable=contempt<br>face_id=%{x}<br>value=%{y}<extra></extra>\", \"legendgroup\": \"contempt\", \"marker\": {\"color\": \"#EF553B\"}, \"name\": \"contempt\", \"offsetgroup\": \"contempt\", \"orientation\": \"v\", \"showlegend\": true, \"textposition\": \"auto\", \"type\": \"bar\", \"x\": [\"7212a34e-98aa-4c6f-a905-b9adef34b65b\", \"a0a48bcc-d329-42c5-8f2e-d5fe71ac4bbd\", \"12d870ea-0741-400a-9c70-58b90a43a031\", \"8332548b-0baa-4483-a259-bbc997b4a5db\", \"5e388f2e-4c90-4705-90f0-3a7ad70d1b85\", \"729528ac-062d-4b98-855d-59e3c422e87f\", \"badc2631-c3e5-4076-a7a4-d202f5da8ef6\", \"0edec95c-4e7d-473e-bad9-f9080a77fa24\", \"63489424-9bc3-40a0-89b5-6c70f558299d\", \"b67feb90-3164-4473-af57-bc65a5caee54\", \"307bcf75-8bb5-48f6-9a0c-d7357c0118cc\", \"e5407dd7-d4cc-4ff4-8a93-e877d06b17e2\", \"92c11a6c-41a8-4190-9fb4-db24eef48f6d\", \"cdb3fc6d-3fa9-49ae-a5ba-873347dbb833\", \"159e5fe2-42f1-426d-b32b-ebaf104cd598\", \"e6b441df-927d-42e6-9eb5-c5d5ac19022e\", \"c5d5013f-0192-4cf3-8bc3-43bdaed4fa4f\", \"740109ec-576d-476a-95fd-17c8b05930a4\", \"2b8d0120-da99-4d31-808c-dcfdf9c133ee\", \"3f771109-c1e1-4f48-8a4f-9cbf099a02ed\"], \"xaxis\": \"x\", \"y\": [0.0, 0.001, 0.01, 0.0, 0.0, 0.003, 0.001, 0.0, 0.0, 0.0, 0.001, 0.0, 0.0, 0.016, 0.001, 0.0, 0.0, 0.0, 0.0, 0.0], \"yaxis\": \"y\"}, {\"alignmentgroup\": \"True\", \"hovertemplate\": \"variable=disgust<br>face_id=%{x}<br>value=%{y}<extra></extra>\", \"legendgroup\": \"disgust\", \"marker\": {\"color\": \"#00cc96\"}, \"name\": \"disgust\", \"offsetgroup\": \"disgust\", \"orientation\": \"v\", \"showlegend\": true, \"textposition\": \"auto\", \"type\": \"bar\", \"x\": [\"7212a34e-98aa-4c6f-a905-b9adef34b65b\", \"a0a48bcc-d329-42c5-8f2e-d5fe71ac4bbd\", \"12d870ea-0741-400a-9c70-58b90a43a031\", \"8332548b-0baa-4483-a259-bbc997b4a5db\", \"5e388f2e-4c90-4705-90f0-3a7ad70d1b85\", \"729528ac-062d-4b98-855d-59e3c422e87f\", \"badc2631-c3e5-4076-a7a4-d202f5da8ef6\", \"0edec95c-4e7d-473e-bad9-f9080a77fa24\", \"63489424-9bc3-40a0-89b5-6c70f558299d\", \"b67feb90-3164-4473-af57-bc65a5caee54\", \"307bcf75-8bb5-48f6-9a0c-d7357c0118cc\", \"e5407dd7-d4cc-4ff4-8a93-e877d06b17e2\", \"92c11a6c-41a8-4190-9fb4-db24eef48f6d\", \"cdb3fc6d-3fa9-49ae-a5ba-873347dbb833\", \"159e5fe2-42f1-426d-b32b-ebaf104cd598\", \"e6b441df-927d-42e6-9eb5-c5d5ac19022e\", \"c5d5013f-0192-4cf3-8bc3-43bdaed4fa4f\", \"740109ec-576d-476a-95fd-17c8b05930a4\", \"2b8d0120-da99-4d31-808c-dcfdf9c133ee\", \"3f771109-c1e1-4f48-8a4f-9cbf099a02ed\"], \"xaxis\": \"x\", \"y\": [0.0, 0.0, 0.0, 0.0, 0.0, 0.0, 0.0, 0.0, 0.002, 0.0, 0.0, 0.0, 0.0, 0.0, 0.0, 0.0, 0.0, 0.0, 0.0, 0.0], \"yaxis\": \"y\"}, {\"alignmentgroup\": \"True\", \"hovertemplate\": \"variable=fear<br>face_id=%{x}<br>value=%{y}<extra></extra>\", \"legendgroup\": \"fear\", \"marker\": {\"color\": \"#ab63fa\"}, \"name\": \"fear\", \"offsetgroup\": \"fear\", \"orientation\": \"v\", \"showlegend\": true, \"textposition\": \"auto\", \"type\": \"bar\", \"x\": [\"7212a34e-98aa-4c6f-a905-b9adef34b65b\", \"a0a48bcc-d329-42c5-8f2e-d5fe71ac4bbd\", \"12d870ea-0741-400a-9c70-58b90a43a031\", \"8332548b-0baa-4483-a259-bbc997b4a5db\", \"5e388f2e-4c90-4705-90f0-3a7ad70d1b85\", \"729528ac-062d-4b98-855d-59e3c422e87f\", \"badc2631-c3e5-4076-a7a4-d202f5da8ef6\", \"0edec95c-4e7d-473e-bad9-f9080a77fa24\", \"63489424-9bc3-40a0-89b5-6c70f558299d\", \"b67feb90-3164-4473-af57-bc65a5caee54\", \"307bcf75-8bb5-48f6-9a0c-d7357c0118cc\", \"e5407dd7-d4cc-4ff4-8a93-e877d06b17e2\", \"92c11a6c-41a8-4190-9fb4-db24eef48f6d\", \"cdb3fc6d-3fa9-49ae-a5ba-873347dbb833\", \"159e5fe2-42f1-426d-b32b-ebaf104cd598\", \"e6b441df-927d-42e6-9eb5-c5d5ac19022e\", \"c5d5013f-0192-4cf3-8bc3-43bdaed4fa4f\", \"740109ec-576d-476a-95fd-17c8b05930a4\", \"2b8d0120-da99-4d31-808c-dcfdf9c133ee\", \"3f771109-c1e1-4f48-8a4f-9cbf099a02ed\"], \"xaxis\": \"x\", \"y\": [0.0, 0.0, 0.0, 0.0, 0.0, 0.0, 0.0, 0.0, 0.0, 0.0, 0.0, 0.0, 0.0, 0.0, 0.0, 0.0, 0.0, 0.0, 0.0, 0.0], \"yaxis\": \"y\"}, {\"alignmentgroup\": \"True\", \"hovertemplate\": \"variable=happiness<br>face_id=%{x}<br>value=%{y}<extra></extra>\", \"legendgroup\": \"happiness\", \"marker\": {\"color\": \"#FFA15A\"}, \"name\": \"happiness\", \"offsetgroup\": \"happiness\", \"orientation\": \"v\", \"showlegend\": true, \"textposition\": \"auto\", \"type\": \"bar\", \"x\": [\"7212a34e-98aa-4c6f-a905-b9adef34b65b\", \"a0a48bcc-d329-42c5-8f2e-d5fe71ac4bbd\", \"12d870ea-0741-400a-9c70-58b90a43a031\", \"8332548b-0baa-4483-a259-bbc997b4a5db\", \"5e388f2e-4c90-4705-90f0-3a7ad70d1b85\", \"729528ac-062d-4b98-855d-59e3c422e87f\", \"badc2631-c3e5-4076-a7a4-d202f5da8ef6\", \"0edec95c-4e7d-473e-bad9-f9080a77fa24\", \"63489424-9bc3-40a0-89b5-6c70f558299d\", \"b67feb90-3164-4473-af57-bc65a5caee54\", \"307bcf75-8bb5-48f6-9a0c-d7357c0118cc\", \"e5407dd7-d4cc-4ff4-8a93-e877d06b17e2\", \"92c11a6c-41a8-4190-9fb4-db24eef48f6d\", \"cdb3fc6d-3fa9-49ae-a5ba-873347dbb833\", \"159e5fe2-42f1-426d-b32b-ebaf104cd598\", \"e6b441df-927d-42e6-9eb5-c5d5ac19022e\", \"c5d5013f-0192-4cf3-8bc3-43bdaed4fa4f\", \"740109ec-576d-476a-95fd-17c8b05930a4\", \"2b8d0120-da99-4d31-808c-dcfdf9c133ee\", \"3f771109-c1e1-4f48-8a4f-9cbf099a02ed\"], \"xaxis\": \"x\", \"y\": [0.999, 0.012, 0.466, 0.987, 1.0, 0.022, 0.999, 1.0, 0.998, 1.0, 0.998, 1.0, 1.0, 0.01, 0.865, 1.0, 1.0, 1.0, 1.0, 0.743], \"yaxis\": \"y\"}, {\"alignmentgroup\": \"True\", \"hovertemplate\": \"variable=neutral<br>face_id=%{x}<br>value=%{y}<extra></extra>\", \"legendgroup\": \"neutral\", \"marker\": {\"color\": \"#19d3f3\"}, \"name\": \"neutral\", \"offsetgroup\": \"neutral\", \"orientation\": \"v\", \"showlegend\": true, \"textposition\": \"auto\", \"type\": \"bar\", \"x\": [\"7212a34e-98aa-4c6f-a905-b9adef34b65b\", \"a0a48bcc-d329-42c5-8f2e-d5fe71ac4bbd\", \"12d870ea-0741-400a-9c70-58b90a43a031\", \"8332548b-0baa-4483-a259-bbc997b4a5db\", \"5e388f2e-4c90-4705-90f0-3a7ad70d1b85\", \"729528ac-062d-4b98-855d-59e3c422e87f\", \"badc2631-c3e5-4076-a7a4-d202f5da8ef6\", \"0edec95c-4e7d-473e-bad9-f9080a77fa24\", \"63489424-9bc3-40a0-89b5-6c70f558299d\", \"b67feb90-3164-4473-af57-bc65a5caee54\", \"307bcf75-8bb5-48f6-9a0c-d7357c0118cc\", \"e5407dd7-d4cc-4ff4-8a93-e877d06b17e2\", \"92c11a6c-41a8-4190-9fb4-db24eef48f6d\", \"cdb3fc6d-3fa9-49ae-a5ba-873347dbb833\", \"159e5fe2-42f1-426d-b32b-ebaf104cd598\", \"e6b441df-927d-42e6-9eb5-c5d5ac19022e\", \"c5d5013f-0192-4cf3-8bc3-43bdaed4fa4f\", \"740109ec-576d-476a-95fd-17c8b05930a4\", \"2b8d0120-da99-4d31-808c-dcfdf9c133ee\", \"3f771109-c1e1-4f48-8a4f-9cbf099a02ed\"], \"xaxis\": \"x\", \"y\": [0.0, 0.983, 0.516, 0.008, 0.0, 0.962, 0.001, 0.0, 0.0, 0.0, 0.001, 0.0, 0.0, 0.972, 0.134, 0.0, 0.0, 0.0, 0.0, 0.257], \"yaxis\": \"y\"}, {\"alignmentgroup\": \"True\", \"hovertemplate\": \"variable=sadness<br>face_id=%{x}<br>value=%{y}<extra></extra>\", \"legendgroup\": \"sadness\", \"marker\": {\"color\": \"#FF6692\"}, \"name\": \"sadness\", \"offsetgroup\": \"sadness\", \"orientation\": \"v\", \"showlegend\": true, \"textposition\": \"auto\", \"type\": \"bar\", \"x\": [\"7212a34e-98aa-4c6f-a905-b9adef34b65b\", \"a0a48bcc-d329-42c5-8f2e-d5fe71ac4bbd\", \"12d870ea-0741-400a-9c70-58b90a43a031\", \"8332548b-0baa-4483-a259-bbc997b4a5db\", \"5e388f2e-4c90-4705-90f0-3a7ad70d1b85\", \"729528ac-062d-4b98-855d-59e3c422e87f\", \"badc2631-c3e5-4076-a7a4-d202f5da8ef6\", \"0edec95c-4e7d-473e-bad9-f9080a77fa24\", \"63489424-9bc3-40a0-89b5-6c70f558299d\", \"b67feb90-3164-4473-af57-bc65a5caee54\", \"307bcf75-8bb5-48f6-9a0c-d7357c0118cc\", \"e5407dd7-d4cc-4ff4-8a93-e877d06b17e2\", \"92c11a6c-41a8-4190-9fb4-db24eef48f6d\", \"cdb3fc6d-3fa9-49ae-a5ba-873347dbb833\", \"159e5fe2-42f1-426d-b32b-ebaf104cd598\", \"e6b441df-927d-42e6-9eb5-c5d5ac19022e\", \"c5d5013f-0192-4cf3-8bc3-43bdaed4fa4f\", \"740109ec-576d-476a-95fd-17c8b05930a4\", \"2b8d0120-da99-4d31-808c-dcfdf9c133ee\", \"3f771109-c1e1-4f48-8a4f-9cbf099a02ed\"], \"xaxis\": \"x\", \"y\": [0.001, 0.002, 0.007, 0.0, 0.0, 0.007, 0.0, 0.0, 0.0, 0.0, 0.0, 0.0, 0.0, 0.002, 0.0, 0.0, 0.0, 0.0, 0.0, 0.0], \"yaxis\": \"y\"}, {\"alignmentgroup\": \"True\", \"hovertemplate\": \"variable=surprise<br>face_id=%{x}<br>value=%{y}<extra></extra>\", \"legendgroup\": \"surprise\", \"marker\": {\"color\": \"#B6E880\"}, \"name\": \"surprise\", \"offsetgroup\": \"surprise\", \"orientation\": \"v\", \"showlegend\": true, \"textposition\": \"auto\", \"type\": \"bar\", \"x\": [\"7212a34e-98aa-4c6f-a905-b9adef34b65b\", \"a0a48bcc-d329-42c5-8f2e-d5fe71ac4bbd\", \"12d870ea-0741-400a-9c70-58b90a43a031\", \"8332548b-0baa-4483-a259-bbc997b4a5db\", \"5e388f2e-4c90-4705-90f0-3a7ad70d1b85\", \"729528ac-062d-4b98-855d-59e3c422e87f\", \"badc2631-c3e5-4076-a7a4-d202f5da8ef6\", \"0edec95c-4e7d-473e-bad9-f9080a77fa24\", \"63489424-9bc3-40a0-89b5-6c70f558299d\", \"b67feb90-3164-4473-af57-bc65a5caee54\", \"307bcf75-8bb5-48f6-9a0c-d7357c0118cc\", \"e5407dd7-d4cc-4ff4-8a93-e877d06b17e2\", \"92c11a6c-41a8-4190-9fb4-db24eef48f6d\", \"cdb3fc6d-3fa9-49ae-a5ba-873347dbb833\", \"159e5fe2-42f1-426d-b32b-ebaf104cd598\", \"e6b441df-927d-42e6-9eb5-c5d5ac19022e\", \"c5d5013f-0192-4cf3-8bc3-43bdaed4fa4f\", \"740109ec-576d-476a-95fd-17c8b05930a4\", \"2b8d0120-da99-4d31-808c-dcfdf9c133ee\", \"3f771109-c1e1-4f48-8a4f-9cbf099a02ed\"], \"xaxis\": \"x\", \"y\": [0.0, 0.002, 0.0, 0.004, 0.0, 0.005, 0.0, 0.0, 0.0, 0.0, 0.0, 0.0, 0.0, 0.0, 0.0, 0.0, 0.0, 0.0, 0.0, 0.0], \"yaxis\": \"y\"}],                        {\"barmode\": \"relative\", \"legend\": {\"title\": {\"text\": \"variable\"}, \"tracegroupgap\": 0}, \"margin\": {\"t\": 60}, \"template\": {\"data\": {\"bar\": [{\"error_x\": {\"color\": \"#2a3f5f\"}, \"error_y\": {\"color\": \"#2a3f5f\"}, \"marker\": {\"line\": {\"color\": \"#E5ECF6\", \"width\": 0.5}}, \"type\": \"bar\"}], \"barpolar\": [{\"marker\": {\"line\": {\"color\": \"#E5ECF6\", \"width\": 0.5}}, \"type\": \"barpolar\"}], \"carpet\": [{\"aaxis\": {\"endlinecolor\": \"#2a3f5f\", \"gridcolor\": \"white\", \"linecolor\": \"white\", \"minorgridcolor\": \"white\", \"startlinecolor\": \"#2a3f5f\"}, \"baxis\": {\"endlinecolor\": \"#2a3f5f\", \"gridcolor\": \"white\", \"linecolor\": \"white\", \"minorgridcolor\": \"white\", \"startlinecolor\": \"#2a3f5f\"}, \"type\": \"carpet\"}], \"choropleth\": [{\"colorbar\": {\"outlinewidth\": 0, \"ticks\": \"\"}, \"type\": \"choropleth\"}], \"contour\": [{\"colorbar\": {\"outlinewidth\": 0, \"ticks\": \"\"}, \"colorscale\": [[0.0, \"#0d0887\"], [0.1111111111111111, \"#46039f\"], [0.2222222222222222, \"#7201a8\"], [0.3333333333333333, \"#9c179e\"], [0.4444444444444444, \"#bd3786\"], [0.5555555555555556, \"#d8576b\"], [0.6666666666666666, \"#ed7953\"], [0.7777777777777778, \"#fb9f3a\"], [0.8888888888888888, \"#fdca26\"], [1.0, \"#f0f921\"]], \"type\": \"contour\"}], \"contourcarpet\": [{\"colorbar\": {\"outlinewidth\": 0, \"ticks\": \"\"}, \"type\": \"contourcarpet\"}], \"heatmap\": [{\"colorbar\": {\"outlinewidth\": 0, \"ticks\": \"\"}, \"colorscale\": [[0.0, \"#0d0887\"], [0.1111111111111111, \"#46039f\"], [0.2222222222222222, \"#7201a8\"], [0.3333333333333333, \"#9c179e\"], [0.4444444444444444, \"#bd3786\"], [0.5555555555555556, \"#d8576b\"], [0.6666666666666666, \"#ed7953\"], [0.7777777777777778, \"#fb9f3a\"], [0.8888888888888888, \"#fdca26\"], [1.0, \"#f0f921\"]], \"type\": \"heatmap\"}], \"heatmapgl\": [{\"colorbar\": {\"outlinewidth\": 0, \"ticks\": \"\"}, \"colorscale\": [[0.0, \"#0d0887\"], [0.1111111111111111, \"#46039f\"], [0.2222222222222222, \"#7201a8\"], [0.3333333333333333, \"#9c179e\"], [0.4444444444444444, \"#bd3786\"], [0.5555555555555556, \"#d8576b\"], [0.6666666666666666, \"#ed7953\"], [0.7777777777777778, \"#fb9f3a\"], [0.8888888888888888, \"#fdca26\"], [1.0, \"#f0f921\"]], \"type\": \"heatmapgl\"}], \"histogram\": [{\"marker\": {\"colorbar\": {\"outlinewidth\": 0, \"ticks\": \"\"}}, \"type\": \"histogram\"}], \"histogram2d\": [{\"colorbar\": {\"outlinewidth\": 0, \"ticks\": \"\"}, \"colorscale\": [[0.0, \"#0d0887\"], [0.1111111111111111, \"#46039f\"], [0.2222222222222222, \"#7201a8\"], [0.3333333333333333, \"#9c179e\"], [0.4444444444444444, \"#bd3786\"], [0.5555555555555556, \"#d8576b\"], [0.6666666666666666, \"#ed7953\"], [0.7777777777777778, \"#fb9f3a\"], [0.8888888888888888, \"#fdca26\"], [1.0, \"#f0f921\"]], \"type\": \"histogram2d\"}], \"histogram2dcontour\": [{\"colorbar\": {\"outlinewidth\": 0, \"ticks\": \"\"}, \"colorscale\": [[0.0, \"#0d0887\"], [0.1111111111111111, \"#46039f\"], [0.2222222222222222, \"#7201a8\"], [0.3333333333333333, \"#9c179e\"], [0.4444444444444444, \"#bd3786\"], [0.5555555555555556, \"#d8576b\"], [0.6666666666666666, \"#ed7953\"], [0.7777777777777778, \"#fb9f3a\"], [0.8888888888888888, \"#fdca26\"], [1.0, \"#f0f921\"]], \"type\": \"histogram2dcontour\"}], \"mesh3d\": [{\"colorbar\": {\"outlinewidth\": 0, \"ticks\": \"\"}, \"type\": \"mesh3d\"}], \"parcoords\": [{\"line\": {\"colorbar\": {\"outlinewidth\": 0, \"ticks\": \"\"}}, \"type\": \"parcoords\"}], \"pie\": [{\"automargin\": true, \"type\": \"pie\"}], \"scatter\": [{\"marker\": {\"colorbar\": {\"outlinewidth\": 0, \"ticks\": \"\"}}, \"type\": \"scatter\"}], \"scatter3d\": [{\"line\": {\"colorbar\": {\"outlinewidth\": 0, \"ticks\": \"\"}}, \"marker\": {\"colorbar\": {\"outlinewidth\": 0, \"ticks\": \"\"}}, \"type\": \"scatter3d\"}], \"scattercarpet\": [{\"marker\": {\"colorbar\": {\"outlinewidth\": 0, \"ticks\": \"\"}}, \"type\": \"scattercarpet\"}], \"scattergeo\": [{\"marker\": {\"colorbar\": {\"outlinewidth\": 0, \"ticks\": \"\"}}, \"type\": \"scattergeo\"}], \"scattergl\": [{\"marker\": {\"colorbar\": {\"outlinewidth\": 0, \"ticks\": \"\"}}, \"type\": \"scattergl\"}], \"scattermapbox\": [{\"marker\": {\"colorbar\": {\"outlinewidth\": 0, \"ticks\": \"\"}}, \"type\": \"scattermapbox\"}], \"scatterpolar\": [{\"marker\": {\"colorbar\": {\"outlinewidth\": 0, \"ticks\": \"\"}}, \"type\": \"scatterpolar\"}], \"scatterpolargl\": [{\"marker\": {\"colorbar\": {\"outlinewidth\": 0, \"ticks\": \"\"}}, \"type\": \"scatterpolargl\"}], \"scatterternary\": [{\"marker\": {\"colorbar\": {\"outlinewidth\": 0, \"ticks\": \"\"}}, \"type\": \"scatterternary\"}], \"surface\": [{\"colorbar\": {\"outlinewidth\": 0, \"ticks\": \"\"}, \"colorscale\": [[0.0, \"#0d0887\"], [0.1111111111111111, \"#46039f\"], [0.2222222222222222, \"#7201a8\"], [0.3333333333333333, \"#9c179e\"], [0.4444444444444444, \"#bd3786\"], [0.5555555555555556, \"#d8576b\"], [0.6666666666666666, \"#ed7953\"], [0.7777777777777778, \"#fb9f3a\"], [0.8888888888888888, \"#fdca26\"], [1.0, \"#f0f921\"]], \"type\": \"surface\"}], \"table\": [{\"cells\": {\"fill\": {\"color\": \"#EBF0F8\"}, \"line\": {\"color\": \"white\"}}, \"header\": {\"fill\": {\"color\": \"#C8D4E3\"}, \"line\": {\"color\": \"white\"}}, \"type\": \"table\"}]}, \"layout\": {\"annotationdefaults\": {\"arrowcolor\": \"#2a3f5f\", \"arrowhead\": 0, \"arrowwidth\": 1}, \"autotypenumbers\": \"strict\", \"coloraxis\": {\"colorbar\": {\"outlinewidth\": 0, \"ticks\": \"\"}}, \"colorscale\": {\"diverging\": [[0, \"#8e0152\"], [0.1, \"#c51b7d\"], [0.2, \"#de77ae\"], [0.3, \"#f1b6da\"], [0.4, \"#fde0ef\"], [0.5, \"#f7f7f7\"], [0.6, \"#e6f5d0\"], [0.7, \"#b8e186\"], [0.8, \"#7fbc41\"], [0.9, \"#4d9221\"], [1, \"#276419\"]], \"sequential\": [[0.0, \"#0d0887\"], [0.1111111111111111, \"#46039f\"], [0.2222222222222222, \"#7201a8\"], [0.3333333333333333, \"#9c179e\"], [0.4444444444444444, \"#bd3786\"], [0.5555555555555556, \"#d8576b\"], [0.6666666666666666, \"#ed7953\"], [0.7777777777777778, \"#fb9f3a\"], [0.8888888888888888, \"#fdca26\"], [1.0, \"#f0f921\"]], \"sequentialminus\": [[0.0, \"#0d0887\"], [0.1111111111111111, \"#46039f\"], [0.2222222222222222, \"#7201a8\"], [0.3333333333333333, \"#9c179e\"], [0.4444444444444444, \"#bd3786\"], [0.5555555555555556, \"#d8576b\"], [0.6666666666666666, \"#ed7953\"], [0.7777777777777778, \"#fb9f3a\"], [0.8888888888888888, \"#fdca26\"], [1.0, \"#f0f921\"]]}, \"colorway\": [\"#636efa\", \"#EF553B\", \"#00cc96\", \"#ab63fa\", \"#FFA15A\", \"#19d3f3\", \"#FF6692\", \"#B6E880\", \"#FF97FF\", \"#FECB52\"], \"font\": {\"color\": \"#2a3f5f\"}, \"geo\": {\"bgcolor\": \"white\", \"lakecolor\": \"white\", \"landcolor\": \"#E5ECF6\", \"showlakes\": true, \"showland\": true, \"subunitcolor\": \"white\"}, \"hoverlabel\": {\"align\": \"left\"}, \"hovermode\": \"closest\", \"mapbox\": {\"style\": \"light\"}, \"paper_bgcolor\": \"white\", \"plot_bgcolor\": \"#E5ECF6\", \"polar\": {\"angularaxis\": {\"gridcolor\": \"white\", \"linecolor\": \"white\", \"ticks\": \"\"}, \"bgcolor\": \"#E5ECF6\", \"radialaxis\": {\"gridcolor\": \"white\", \"linecolor\": \"white\", \"ticks\": \"\"}}, \"scene\": {\"xaxis\": {\"backgroundcolor\": \"#E5ECF6\", \"gridcolor\": \"white\", \"gridwidth\": 2, \"linecolor\": \"white\", \"showbackground\": true, \"ticks\": \"\", \"zerolinecolor\": \"white\"}, \"yaxis\": {\"backgroundcolor\": \"#E5ECF6\", \"gridcolor\": \"white\", \"gridwidth\": 2, \"linecolor\": \"white\", \"showbackground\": true, \"ticks\": \"\", \"zerolinecolor\": \"white\"}, \"zaxis\": {\"backgroundcolor\": \"#E5ECF6\", \"gridcolor\": \"white\", \"gridwidth\": 2, \"linecolor\": \"white\", \"showbackground\": true, \"ticks\": \"\", \"zerolinecolor\": \"white\"}}, \"shapedefaults\": {\"line\": {\"color\": \"#2a3f5f\"}}, \"ternary\": {\"aaxis\": {\"gridcolor\": \"white\", \"linecolor\": \"white\", \"ticks\": \"\"}, \"baxis\": {\"gridcolor\": \"white\", \"linecolor\": \"white\", \"ticks\": \"\"}, \"bgcolor\": \"#E5ECF6\", \"caxis\": {\"gridcolor\": \"white\", \"linecolor\": \"white\", \"ticks\": \"\"}}, \"title\": {\"x\": 0.05}, \"xaxis\": {\"automargin\": true, \"gridcolor\": \"white\", \"linecolor\": \"white\", \"ticks\": \"\", \"title\": {\"standoff\": 15}, \"zerolinecolor\": \"white\", \"zerolinewidth\": 2}, \"yaxis\": {\"automargin\": true, \"gridcolor\": \"white\", \"linecolor\": \"white\", \"ticks\": \"\", \"title\": {\"standoff\": 15}, \"zerolinecolor\": \"white\", \"zerolinewidth\": 2}}}, \"xaxis\": {\"anchor\": \"y\", \"domain\": [0.0, 1.0], \"title\": {\"text\": \"face_id\"}}, \"yaxis\": {\"anchor\": \"x\", \"domain\": [0.0, 1.0], \"title\": {\"text\": \"value\"}}},                        {\"responsive\": true}                    )                };                            </script>        </div>'"
      ]
     },
     "metadata": {},
     "execution_count": 18
    }
   ],
   "source": [
    "barchart.to_html(full_html = False)"
   ]
  },
  {
   "source": [
    "# testing to see if i can append html charts together"
   ],
   "cell_type": "markdown",
   "metadata": {}
  },
  {
   "cell_type": "code",
   "execution_count": 11,
   "metadata": {},
   "outputs": [
    {
     "output_type": "display_data",
     "data": {
      "application/vnd.plotly.v1+json": {
       "config": {
        "plotlyServerURL": "https://plot.ly"
       },
       "data": [
        {
         "alignmentgroup": "True",
         "hovertemplate": "variable=anger<br>face_id=%{x}<br>value=%{y}<extra></extra>",
         "legendgroup": "anger",
         "marker": {
          "color": "#636efa"
         },
         "name": "anger",
         "offsetgroup": "anger",
         "orientation": "v",
         "showlegend": true,
         "textposition": "auto",
         "type": "bar",
         "x": [
          "7212a34e-98aa-4c6f-a905-b9adef34b65b",
          "a0a48bcc-d329-42c5-8f2e-d5fe71ac4bbd",
          "12d870ea-0741-400a-9c70-58b90a43a031",
          "8332548b-0baa-4483-a259-bbc997b4a5db",
          "5e388f2e-4c90-4705-90f0-3a7ad70d1b85",
          "729528ac-062d-4b98-855d-59e3c422e87f",
          "badc2631-c3e5-4076-a7a4-d202f5da8ef6",
          "0edec95c-4e7d-473e-bad9-f9080a77fa24",
          "63489424-9bc3-40a0-89b5-6c70f558299d",
          "b67feb90-3164-4473-af57-bc65a5caee54",
          "307bcf75-8bb5-48f6-9a0c-d7357c0118cc",
          "e5407dd7-d4cc-4ff4-8a93-e877d06b17e2",
          "92c11a6c-41a8-4190-9fb4-db24eef48f6d",
          "cdb3fc6d-3fa9-49ae-a5ba-873347dbb833",
          "159e5fe2-42f1-426d-b32b-ebaf104cd598",
          "e6b441df-927d-42e6-9eb5-c5d5ac19022e",
          "c5d5013f-0192-4cf3-8bc3-43bdaed4fa4f",
          "740109ec-576d-476a-95fd-17c8b05930a4",
          "2b8d0120-da99-4d31-808c-dcfdf9c133ee",
          "3f771109-c1e1-4f48-8a4f-9cbf099a02ed"
         ],
         "xaxis": "x",
         "y": [
          0,
          0,
          0,
          0,
          0,
          0,
          0,
          0,
          0,
          0,
          0,
          0,
          0,
          0,
          0,
          0,
          0,
          0,
          0,
          0
         ],
         "yaxis": "y"
        },
        {
         "alignmentgroup": "True",
         "hovertemplate": "variable=contempt<br>face_id=%{x}<br>value=%{y}<extra></extra>",
         "legendgroup": "contempt",
         "marker": {
          "color": "#EF553B"
         },
         "name": "contempt",
         "offsetgroup": "contempt",
         "orientation": "v",
         "showlegend": true,
         "textposition": "auto",
         "type": "bar",
         "x": [
          "7212a34e-98aa-4c6f-a905-b9adef34b65b",
          "a0a48bcc-d329-42c5-8f2e-d5fe71ac4bbd",
          "12d870ea-0741-400a-9c70-58b90a43a031",
          "8332548b-0baa-4483-a259-bbc997b4a5db",
          "5e388f2e-4c90-4705-90f0-3a7ad70d1b85",
          "729528ac-062d-4b98-855d-59e3c422e87f",
          "badc2631-c3e5-4076-a7a4-d202f5da8ef6",
          "0edec95c-4e7d-473e-bad9-f9080a77fa24",
          "63489424-9bc3-40a0-89b5-6c70f558299d",
          "b67feb90-3164-4473-af57-bc65a5caee54",
          "307bcf75-8bb5-48f6-9a0c-d7357c0118cc",
          "e5407dd7-d4cc-4ff4-8a93-e877d06b17e2",
          "92c11a6c-41a8-4190-9fb4-db24eef48f6d",
          "cdb3fc6d-3fa9-49ae-a5ba-873347dbb833",
          "159e5fe2-42f1-426d-b32b-ebaf104cd598",
          "e6b441df-927d-42e6-9eb5-c5d5ac19022e",
          "c5d5013f-0192-4cf3-8bc3-43bdaed4fa4f",
          "740109ec-576d-476a-95fd-17c8b05930a4",
          "2b8d0120-da99-4d31-808c-dcfdf9c133ee",
          "3f771109-c1e1-4f48-8a4f-9cbf099a02ed"
         ],
         "xaxis": "x",
         "y": [
          0,
          0.001,
          0.01,
          0,
          0,
          0.003,
          0.001,
          0,
          0,
          0,
          0.001,
          0,
          0,
          0.016,
          0.001,
          0,
          0,
          0,
          0,
          0
         ],
         "yaxis": "y"
        },
        {
         "alignmentgroup": "True",
         "hovertemplate": "variable=disgust<br>face_id=%{x}<br>value=%{y}<extra></extra>",
         "legendgroup": "disgust",
         "marker": {
          "color": "#00cc96"
         },
         "name": "disgust",
         "offsetgroup": "disgust",
         "orientation": "v",
         "showlegend": true,
         "textposition": "auto",
         "type": "bar",
         "x": [
          "7212a34e-98aa-4c6f-a905-b9adef34b65b",
          "a0a48bcc-d329-42c5-8f2e-d5fe71ac4bbd",
          "12d870ea-0741-400a-9c70-58b90a43a031",
          "8332548b-0baa-4483-a259-bbc997b4a5db",
          "5e388f2e-4c90-4705-90f0-3a7ad70d1b85",
          "729528ac-062d-4b98-855d-59e3c422e87f",
          "badc2631-c3e5-4076-a7a4-d202f5da8ef6",
          "0edec95c-4e7d-473e-bad9-f9080a77fa24",
          "63489424-9bc3-40a0-89b5-6c70f558299d",
          "b67feb90-3164-4473-af57-bc65a5caee54",
          "307bcf75-8bb5-48f6-9a0c-d7357c0118cc",
          "e5407dd7-d4cc-4ff4-8a93-e877d06b17e2",
          "92c11a6c-41a8-4190-9fb4-db24eef48f6d",
          "cdb3fc6d-3fa9-49ae-a5ba-873347dbb833",
          "159e5fe2-42f1-426d-b32b-ebaf104cd598",
          "e6b441df-927d-42e6-9eb5-c5d5ac19022e",
          "c5d5013f-0192-4cf3-8bc3-43bdaed4fa4f",
          "740109ec-576d-476a-95fd-17c8b05930a4",
          "2b8d0120-da99-4d31-808c-dcfdf9c133ee",
          "3f771109-c1e1-4f48-8a4f-9cbf099a02ed"
         ],
         "xaxis": "x",
         "y": [
          0,
          0,
          0,
          0,
          0,
          0,
          0,
          0,
          0.002,
          0,
          0,
          0,
          0,
          0,
          0,
          0,
          0,
          0,
          0,
          0
         ],
         "yaxis": "y"
        }
       ],
       "layout": {
        "barmode": "relative",
        "legend": {
         "title": {
          "text": "variable"
         },
         "tracegroupgap": 0
        },
        "margin": {
         "t": 60
        },
        "template": {
         "data": {
          "bar": [
           {
            "error_x": {
             "color": "#2a3f5f"
            },
            "error_y": {
             "color": "#2a3f5f"
            },
            "marker": {
             "line": {
              "color": "#E5ECF6",
              "width": 0.5
             }
            },
            "type": "bar"
           }
          ],
          "barpolar": [
           {
            "marker": {
             "line": {
              "color": "#E5ECF6",
              "width": 0.5
             }
            },
            "type": "barpolar"
           }
          ],
          "carpet": [
           {
            "aaxis": {
             "endlinecolor": "#2a3f5f",
             "gridcolor": "white",
             "linecolor": "white",
             "minorgridcolor": "white",
             "startlinecolor": "#2a3f5f"
            },
            "baxis": {
             "endlinecolor": "#2a3f5f",
             "gridcolor": "white",
             "linecolor": "white",
             "minorgridcolor": "white",
             "startlinecolor": "#2a3f5f"
            },
            "type": "carpet"
           }
          ],
          "choropleth": [
           {
            "colorbar": {
             "outlinewidth": 0,
             "ticks": ""
            },
            "type": "choropleth"
           }
          ],
          "contour": [
           {
            "colorbar": {
             "outlinewidth": 0,
             "ticks": ""
            },
            "colorscale": [
             [
              0,
              "#0d0887"
             ],
             [
              0.1111111111111111,
              "#46039f"
             ],
             [
              0.2222222222222222,
              "#7201a8"
             ],
             [
              0.3333333333333333,
              "#9c179e"
             ],
             [
              0.4444444444444444,
              "#bd3786"
             ],
             [
              0.5555555555555556,
              "#d8576b"
             ],
             [
              0.6666666666666666,
              "#ed7953"
             ],
             [
              0.7777777777777778,
              "#fb9f3a"
             ],
             [
              0.8888888888888888,
              "#fdca26"
             ],
             [
              1,
              "#f0f921"
             ]
            ],
            "type": "contour"
           }
          ],
          "contourcarpet": [
           {
            "colorbar": {
             "outlinewidth": 0,
             "ticks": ""
            },
            "type": "contourcarpet"
           }
          ],
          "heatmap": [
           {
            "colorbar": {
             "outlinewidth": 0,
             "ticks": ""
            },
            "colorscale": [
             [
              0,
              "#0d0887"
             ],
             [
              0.1111111111111111,
              "#46039f"
             ],
             [
              0.2222222222222222,
              "#7201a8"
             ],
             [
              0.3333333333333333,
              "#9c179e"
             ],
             [
              0.4444444444444444,
              "#bd3786"
             ],
             [
              0.5555555555555556,
              "#d8576b"
             ],
             [
              0.6666666666666666,
              "#ed7953"
             ],
             [
              0.7777777777777778,
              "#fb9f3a"
             ],
             [
              0.8888888888888888,
              "#fdca26"
             ],
             [
              1,
              "#f0f921"
             ]
            ],
            "type": "heatmap"
           }
          ],
          "heatmapgl": [
           {
            "colorbar": {
             "outlinewidth": 0,
             "ticks": ""
            },
            "colorscale": [
             [
              0,
              "#0d0887"
             ],
             [
              0.1111111111111111,
              "#46039f"
             ],
             [
              0.2222222222222222,
              "#7201a8"
             ],
             [
              0.3333333333333333,
              "#9c179e"
             ],
             [
              0.4444444444444444,
              "#bd3786"
             ],
             [
              0.5555555555555556,
              "#d8576b"
             ],
             [
              0.6666666666666666,
              "#ed7953"
             ],
             [
              0.7777777777777778,
              "#fb9f3a"
             ],
             [
              0.8888888888888888,
              "#fdca26"
             ],
             [
              1,
              "#f0f921"
             ]
            ],
            "type": "heatmapgl"
           }
          ],
          "histogram": [
           {
            "marker": {
             "colorbar": {
              "outlinewidth": 0,
              "ticks": ""
             }
            },
            "type": "histogram"
           }
          ],
          "histogram2d": [
           {
            "colorbar": {
             "outlinewidth": 0,
             "ticks": ""
            },
            "colorscale": [
             [
              0,
              "#0d0887"
             ],
             [
              0.1111111111111111,
              "#46039f"
             ],
             [
              0.2222222222222222,
              "#7201a8"
             ],
             [
              0.3333333333333333,
              "#9c179e"
             ],
             [
              0.4444444444444444,
              "#bd3786"
             ],
             [
              0.5555555555555556,
              "#d8576b"
             ],
             [
              0.6666666666666666,
              "#ed7953"
             ],
             [
              0.7777777777777778,
              "#fb9f3a"
             ],
             [
              0.8888888888888888,
              "#fdca26"
             ],
             [
              1,
              "#f0f921"
             ]
            ],
            "type": "histogram2d"
           }
          ],
          "histogram2dcontour": [
           {
            "colorbar": {
             "outlinewidth": 0,
             "ticks": ""
            },
            "colorscale": [
             [
              0,
              "#0d0887"
             ],
             [
              0.1111111111111111,
              "#46039f"
             ],
             [
              0.2222222222222222,
              "#7201a8"
             ],
             [
              0.3333333333333333,
              "#9c179e"
             ],
             [
              0.4444444444444444,
              "#bd3786"
             ],
             [
              0.5555555555555556,
              "#d8576b"
             ],
             [
              0.6666666666666666,
              "#ed7953"
             ],
             [
              0.7777777777777778,
              "#fb9f3a"
             ],
             [
              0.8888888888888888,
              "#fdca26"
             ],
             [
              1,
              "#f0f921"
             ]
            ],
            "type": "histogram2dcontour"
           }
          ],
          "mesh3d": [
           {
            "colorbar": {
             "outlinewidth": 0,
             "ticks": ""
            },
            "type": "mesh3d"
           }
          ],
          "parcoords": [
           {
            "line": {
             "colorbar": {
              "outlinewidth": 0,
              "ticks": ""
             }
            },
            "type": "parcoords"
           }
          ],
          "pie": [
           {
            "automargin": true,
            "type": "pie"
           }
          ],
          "scatter": [
           {
            "marker": {
             "colorbar": {
              "outlinewidth": 0,
              "ticks": ""
             }
            },
            "type": "scatter"
           }
          ],
          "scatter3d": [
           {
            "line": {
             "colorbar": {
              "outlinewidth": 0,
              "ticks": ""
             }
            },
            "marker": {
             "colorbar": {
              "outlinewidth": 0,
              "ticks": ""
             }
            },
            "type": "scatter3d"
           }
          ],
          "scattercarpet": [
           {
            "marker": {
             "colorbar": {
              "outlinewidth": 0,
              "ticks": ""
             }
            },
            "type": "scattercarpet"
           }
          ],
          "scattergeo": [
           {
            "marker": {
             "colorbar": {
              "outlinewidth": 0,
              "ticks": ""
             }
            },
            "type": "scattergeo"
           }
          ],
          "scattergl": [
           {
            "marker": {
             "colorbar": {
              "outlinewidth": 0,
              "ticks": ""
             }
            },
            "type": "scattergl"
           }
          ],
          "scattermapbox": [
           {
            "marker": {
             "colorbar": {
              "outlinewidth": 0,
              "ticks": ""
             }
            },
            "type": "scattermapbox"
           }
          ],
          "scatterpolar": [
           {
            "marker": {
             "colorbar": {
              "outlinewidth": 0,
              "ticks": ""
             }
            },
            "type": "scatterpolar"
           }
          ],
          "scatterpolargl": [
           {
            "marker": {
             "colorbar": {
              "outlinewidth": 0,
              "ticks": ""
             }
            },
            "type": "scatterpolargl"
           }
          ],
          "scatterternary": [
           {
            "marker": {
             "colorbar": {
              "outlinewidth": 0,
              "ticks": ""
             }
            },
            "type": "scatterternary"
           }
          ],
          "surface": [
           {
            "colorbar": {
             "outlinewidth": 0,
             "ticks": ""
            },
            "colorscale": [
             [
              0,
              "#0d0887"
             ],
             [
              0.1111111111111111,
              "#46039f"
             ],
             [
              0.2222222222222222,
              "#7201a8"
             ],
             [
              0.3333333333333333,
              "#9c179e"
             ],
             [
              0.4444444444444444,
              "#bd3786"
             ],
             [
              0.5555555555555556,
              "#d8576b"
             ],
             [
              0.6666666666666666,
              "#ed7953"
             ],
             [
              0.7777777777777778,
              "#fb9f3a"
             ],
             [
              0.8888888888888888,
              "#fdca26"
             ],
             [
              1,
              "#f0f921"
             ]
            ],
            "type": "surface"
           }
          ],
          "table": [
           {
            "cells": {
             "fill": {
              "color": "#EBF0F8"
             },
             "line": {
              "color": "white"
             }
            },
            "header": {
             "fill": {
              "color": "#C8D4E3"
             },
             "line": {
              "color": "white"
             }
            },
            "type": "table"
           }
          ]
         },
         "layout": {
          "annotationdefaults": {
           "arrowcolor": "#2a3f5f",
           "arrowhead": 0,
           "arrowwidth": 1
          },
          "autotypenumbers": "strict",
          "coloraxis": {
           "colorbar": {
            "outlinewidth": 0,
            "ticks": ""
           }
          },
          "colorscale": {
           "diverging": [
            [
             0,
             "#8e0152"
            ],
            [
             0.1,
             "#c51b7d"
            ],
            [
             0.2,
             "#de77ae"
            ],
            [
             0.3,
             "#f1b6da"
            ],
            [
             0.4,
             "#fde0ef"
            ],
            [
             0.5,
             "#f7f7f7"
            ],
            [
             0.6,
             "#e6f5d0"
            ],
            [
             0.7,
             "#b8e186"
            ],
            [
             0.8,
             "#7fbc41"
            ],
            [
             0.9,
             "#4d9221"
            ],
            [
             1,
             "#276419"
            ]
           ],
           "sequential": [
            [
             0,
             "#0d0887"
            ],
            [
             0.1111111111111111,
             "#46039f"
            ],
            [
             0.2222222222222222,
             "#7201a8"
            ],
            [
             0.3333333333333333,
             "#9c179e"
            ],
            [
             0.4444444444444444,
             "#bd3786"
            ],
            [
             0.5555555555555556,
             "#d8576b"
            ],
            [
             0.6666666666666666,
             "#ed7953"
            ],
            [
             0.7777777777777778,
             "#fb9f3a"
            ],
            [
             0.8888888888888888,
             "#fdca26"
            ],
            [
             1,
             "#f0f921"
            ]
           ],
           "sequentialminus": [
            [
             0,
             "#0d0887"
            ],
            [
             0.1111111111111111,
             "#46039f"
            ],
            [
             0.2222222222222222,
             "#7201a8"
            ],
            [
             0.3333333333333333,
             "#9c179e"
            ],
            [
             0.4444444444444444,
             "#bd3786"
            ],
            [
             0.5555555555555556,
             "#d8576b"
            ],
            [
             0.6666666666666666,
             "#ed7953"
            ],
            [
             0.7777777777777778,
             "#fb9f3a"
            ],
            [
             0.8888888888888888,
             "#fdca26"
            ],
            [
             1,
             "#f0f921"
            ]
           ]
          },
          "colorway": [
           "#636efa",
           "#EF553B",
           "#00cc96",
           "#ab63fa",
           "#FFA15A",
           "#19d3f3",
           "#FF6692",
           "#B6E880",
           "#FF97FF",
           "#FECB52"
          ],
          "font": {
           "color": "#2a3f5f"
          },
          "geo": {
           "bgcolor": "white",
           "lakecolor": "white",
           "landcolor": "#E5ECF6",
           "showlakes": true,
           "showland": true,
           "subunitcolor": "white"
          },
          "hoverlabel": {
           "align": "left"
          },
          "hovermode": "closest",
          "mapbox": {
           "style": "light"
          },
          "paper_bgcolor": "white",
          "plot_bgcolor": "#E5ECF6",
          "polar": {
           "angularaxis": {
            "gridcolor": "white",
            "linecolor": "white",
            "ticks": ""
           },
           "bgcolor": "#E5ECF6",
           "radialaxis": {
            "gridcolor": "white",
            "linecolor": "white",
            "ticks": ""
           }
          },
          "scene": {
           "xaxis": {
            "backgroundcolor": "#E5ECF6",
            "gridcolor": "white",
            "gridwidth": 2,
            "linecolor": "white",
            "showbackground": true,
            "ticks": "",
            "zerolinecolor": "white"
           },
           "yaxis": {
            "backgroundcolor": "#E5ECF6",
            "gridcolor": "white",
            "gridwidth": 2,
            "linecolor": "white",
            "showbackground": true,
            "ticks": "",
            "zerolinecolor": "white"
           },
           "zaxis": {
            "backgroundcolor": "#E5ECF6",
            "gridcolor": "white",
            "gridwidth": 2,
            "linecolor": "white",
            "showbackground": true,
            "ticks": "",
            "zerolinecolor": "white"
           }
          },
          "shapedefaults": {
           "line": {
            "color": "#2a3f5f"
           }
          },
          "ternary": {
           "aaxis": {
            "gridcolor": "white",
            "linecolor": "white",
            "ticks": ""
           },
           "baxis": {
            "gridcolor": "white",
            "linecolor": "white",
            "ticks": ""
           },
           "bgcolor": "#E5ECF6",
           "caxis": {
            "gridcolor": "white",
            "linecolor": "white",
            "ticks": ""
           }
          },
          "title": {
           "x": 0.05
          },
          "xaxis": {
           "automargin": true,
           "gridcolor": "white",
           "linecolor": "white",
           "ticks": "",
           "title": {
            "standoff": 15
           },
           "zerolinecolor": "white",
           "zerolinewidth": 2
          },
          "yaxis": {
           "automargin": true,
           "gridcolor": "white",
           "linecolor": "white",
           "ticks": "",
           "title": {
            "standoff": 15
           },
           "zerolinecolor": "white",
           "zerolinewidth": 2
          }
         }
        },
        "xaxis": {
         "anchor": "y",
         "domain": [
          0,
          1
         ],
         "title": {
          "text": "face_id"
         }
        },
        "yaxis": {
         "anchor": "x",
         "domain": [
          0,
          1
         ],
         "title": {
          "text": "value"
         }
        }
       }
      }
     },
     "metadata": {}
    }
   ],
   "source": [
    "b2 = px.bar(\n",
    "    df,\n",
    "    x = 'face_id',\n",
    "    y = emotions[:3]\n",
    ")\n",
    "\n",
    "b2"
   ]
  },
  {
   "cell_type": "code",
   "execution_count": 12,
   "metadata": {},
   "outputs": [],
   "source": [
    "b2.write_html('t2.html')"
   ]
  },
  {
   "cell_type": "code",
   "execution_count": null,
   "metadata": {},
   "outputs": [],
   "source": [
    "with open('test.html', 'r') as fo:\n",
    "    h1 = "
   ]
  }
 ]
}